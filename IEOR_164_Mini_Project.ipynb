{
 "cells": [
  {
   "cell_type": "code",
   "execution_count": 18,
   "metadata": {},
   "outputs": [],
   "source": [
    "%%capture\n",
    "import sys\n",
    "import numpy as np\n",
    "\n",
    "%pip install pyomo >/dev/null 2>/dev/null\n",
    "%pip install highspy >/dev/null 2>/dev/null\n",
    "\n",
    "solver = 'appsi_highs'\n",
    "\n",
    "import pyomo.environ as pyo\n",
    "SOLVER = pyo.SolverFactory(solver)\n",
    "\n",
    "assert SOLVER.available(), f\"Solver {solver} is not available.\"\n",
    "\n",
    "import pandas as pd\n",
    "import csv\n"
   ]
  },
  {
   "cell_type": "code",
   "execution_count": 32,
   "metadata": {},
   "outputs": [],
   "source": [
    "#Initialize the model\n",
    "model = pyo.ConcreteModel(\"National Park Trip\")"
   ]
  },
  {
   "cell_type": "code",
   "execution_count": 33,
   "metadata": {},
   "outputs": [],
   "source": [
    "#Importing the data\n",
    "activity_table = pd.read_excel(\"164 Mini Project Data .xlsx\", sheet_name=\"Activities\")\n",
    "dist_matrix = pd.read_excel(\"164 Mini Project Data .xlsx\", sheet_name=\"Distances\")\n",
    "dist_matrix = dist_matrix.drop(columns=[\"Unnamed: 0\"])\n",
    "time_matrix = pd.read_excel(\"164 Mini Project Data .xlsx\", sheet_name=\"Travel Time\") \n"
   ]
  },
  {
   "cell_type": "code",
   "execution_count": 34,
   "metadata": {},
   "outputs": [],
   "source": [
    "# Sets\n",
    "#activity_table = activity_table.set_index(\"Activity\")\n",
    "model.I = pyo.Set(initialize=activity_table['Activity'].dropna().tolist()) #set of activities\n",
    "#model.P = pyo.Set(initialize=['Hiking', 'Adventures', 'Shopping', 'Driving', 'Vistas']) # category of activities\n",
    "model.K = pyo.Set(initialize=[1,2,3]) #set of days\n",
    "model.L = pyo.Set() #set of lodging options from its own file\n",
    "model.N = pyo.Set() #set of all nodes in network flow (lodging + activities)"
   ]
  },
  {
   "cell_type": "code",
   "execution_count": 35,
   "metadata": {},
   "outputs": [],
   "source": [
    "#Parameters\n",
    "duration_dict = activity_table.set_index(\"Activity\")[\"Duration\"].to_dict() #duration of each activity\n",
    "activityType_dict = activity_table.set_index(\"Activity\")[\"Category\"].to_dict() #type of each activity\n",
    "cost_dict = activity_table.set_index(\"Activity\")[\"Cost\"].to_dict() #cost of each activity\n",
    "funPoints_dict = activity_table.set_index(\"Activity\")[\"Fun Points\"].to_dict() #fun points of each activity\n",
    "\n",
    "distance_dict = {}\n",
    "for i, src in enumerate(activity_table['Activity']):\n",
    "    for j, dest in enumerate(activity_table['Activity']):\n",
    "        if i != j:\n",
    "            distance_dict[(src, dest)] = dist_matrix.iloc[i][j]\n",
    "        else:\n",
    "            distance_dict[(src, dest)] = 0\n",
    "\n",
    "travel_time_dict = {}\n",
    "for i, src in enumerate(activity_table['Activity']):\n",
    "    for j, dest in enumerate(activity_table['Activity']):\n",
    "        if i != j:\n",
    "            travel_time_dict[(src, dest)] = time_matrix.iloc[i][j]\n",
    "        else:\n",
    "            travel_time_dict[(src, dest)] = 0\n",
    "\n",
    "model.duration = pyo.Param(model.I, initialize=duration_dict)\n",
    "model.activity_type = pyo.Param(model.I, initialize=activityType_dict, within=pyo.Any)\n",
    "model.cost = pyo.Param(model.I, initialize=cost_dict)\n",
    "model.fun_points = pyo.Param(model.I, initialize=funPoints_dict)\n",
    "\n"
   ]
  },
  {
   "cell_type": "code",
   "execution_count": 36,
   "metadata": {},
   "outputs": [],
   "source": [
    "#Variables\n",
    "model.x = pyo.Var(model.I, model.K, within=pyo.Binary) #activity selection \n",
    "model.y = pyo.Var(distance_dict.keys(), within=pyo.Binary) #path between locations (determines order)\n",
    "model.h = pyo.Var(model.L, model.K, within=pyo.Binary) #lodging selection\n",
    "model.v = pyo.Var(model.L, model.I, model.K, within=pyo.Binary) #if departing lodge L to activity i on day k \n",
    "model.w = pyo.Var(model.L, model.I, model.K, within=pyo.Binary) #if arriving at lodge L from activity i on day k\n",
    "\n",
    "\n",
    "\n",
    "\n"
   ]
  },
  {
   "cell_type": "code",
   "execution_count": 37,
   "metadata": {},
   "outputs": [
    {
     "data": {
      "text/plain": [
       "'\\ndef travel_time(model):\\n    return sum(model.y[i,j] * r_ij[i,j] for i,j in model.N) <= sum(model.x[i,p,k] * t_ip[i] for i in model.I for p in model.P for k in model.K)\\nmodel.travel_time = pyo.Constraint(model.K, rule=travel_time)\\n'"
      ]
     },
     "execution_count": 37,
     "metadata": {},
     "output_type": "execute_result"
    }
   ],
   "source": [
    "#Constraints\n",
    "def hiking_time(model, k):\n",
    "    return sum(model.duration[i] * model.x[i, k] for i in model.I if model.activity_type[i] == 'Hiking') <= 2\n",
    "model.hiking_time = pyo.Constraint(model.K, rule=hiking_time)\n",
    "\n",
    "# def adventure_budget(model, k):\n",
    "#     return sum(model.cost[i] * model.x[i, k] for i in model.I if model.activity_type[i] == 'Adventures') <= 600\n",
    "# model.adventure_budget = pyo.Constraint(model.K, rule=adventure_budget)\n",
    "\n",
    "\n",
    "# def min_fun(model):\n",
    "#     return sum(model.fun_points[i] * model.x[i, k] for i in model.I for k in model.K) >= 10\n",
    "# model.min_fun = pyo.Constraint(rule=min_fun)   \n",
    "\n",
    "\n",
    "#set fun points per day to 10\n",
    "# def min_fun_per_day(model, k):\n",
    "#     return sum(model.fun_points[i] * model.x[i, k] for i in model.I) >= 10\n",
    "# model.min_fun_per_day = pyo.Constraint(model.K, rule=min_fun_per_day)\n",
    "\n",
    "\n",
    "def min_activities(model):\n",
    "    return sum(model.x[i, k] for i in model.I for k in model.K) >= 1\n",
    "model.min_activities = pyo.Constraint(rule=min_activities)\n",
    "\n",
    "# #Constraint to avoid selecting the same activity on different days\n",
    "def same_activity(model, i):\n",
    "    return sum(model.x[i, k] for k in model.K) <= 1\n",
    "model.same_activity = pyo.Constraint(model.I, rule=same_activity)\n",
    "\n",
    "# #Constraint activity time per day to 10 hours\n",
    "def activity_time(model, k):\n",
    "    return sum(model.duration[i] * model.x[i, k] for i in model.I) <= 10\n",
    "\n",
    "# #Constraint to avoid selecting the same activity on the same day\n",
    "def same_day_activity(model, k):\n",
    "    return sum(model.x[i, k] for i in model.I) <= 1\n",
    "model.activity_time = pyo.Constraint(model.K, rule=activity_time)\n",
    "\n",
    "# #Minimum number of activities per day\n",
    "def min_activities_per_day(model, k):\n",
    "    return sum(model.x[i, k] for i in model.I) >= 3\n",
    "model.min_activities_per_day = pyo.Constraint(model.K, rule=min_activities_per_day)\n",
    "\n",
    "# #Total length of a day inclusing traveling between activities needs to be less than 16 hours\n",
    "# def total_time(model, k):\n",
    "#     return sum(model.duration[i] * model.x[i, k] for i in model.I) + sum(model.y[i,j] * travel_time_dict[i,j] for i,j in distance_dict.keys()) <= 7\n",
    "\n",
    "\n",
    "\n",
    "\n",
    "#def\n",
    "'''\n",
    "def scheduling_continutity(model, i):\n",
    "    return sum(model.y[i,j] for j in model.N) == sum(model.x[i,p,k] for p in model.P for k in model.K)\n",
    "model.scheduling_continuity = pyo.Constraint(model.I, rule=scheduling_continutity)\n",
    "'''\n",
    "'''\n",
    "def travel_time(model):\n",
    "    return sum(model.y[i,j] * r_ij[i,j] for i,j in model.N) <= sum(model.x[i,p,k] * t_ip[i] for i in model.I for p in model.P for k in model.K)\n",
    "model.travel_time = pyo.Constraint(model.K, rule=travel_time)\n",
    "'''"
   ]
  },
  {
   "cell_type": "code",
   "execution_count": 42,
   "metadata": {},
   "outputs": [
    {
     "name": "stdout",
     "output_type": "stream",
     "text": [
      "WARNING: Implicitly replacing the Component attribute obj (type=<class\n",
      "'pyomo.core.base.objective.ScalarObjective'>) on block National Park Trip with\n",
      "a new Component (type=<class 'pyomo.core.base.objective.ScalarObjective'>).\n",
      "This is usually indicative of a modelling error. To avoid this warning, use\n",
      "block.del_component() and block.add_component().\n"
     ]
    }
   ],
   "source": [
    "#Objective Function\n",
    "def total_cost(model):\n",
    "    #lodging_cost = sum(model.h[l, k] * activity_table.loc[l, 'Cost'] for l in model.L for k in model.K)\n",
    "    activity_cost = sum(model.x[i,k] * activity_table.at[i, 'Cost'] for i in model.I for k in model.K)\n",
    "    car_cost = sum(model.y[i,j] * travel_time_dict[i,j] for i,j in distance_dict.keys())\n",
    "\n",
    "    return car_cost\n",
    "\n",
    "model.obj = pyo.Objective(rule=total_cost, sense=pyo.minimize)"
   ]
  },
  {
   "cell_type": "code",
   "execution_count": 43,
   "metadata": {},
   "outputs": [
    {
     "ename": "RuntimeError",
     "evalue": "Solver does not currently have a valid solution. Please check the termination condition.",
     "output_type": "error",
     "traceback": [
      "\u001b[0;31m---------------------------------------------------------------------------\u001b[0m",
      "\u001b[0;31mRuntimeError\u001b[0m                              Traceback (most recent call last)",
      "Cell \u001b[0;32mIn[43], line 2\u001b[0m\n\u001b[1;32m      1\u001b[0m \u001b[39m#Solve the model\u001b[39;00m\n\u001b[0;32m----> 2\u001b[0m SOLVER\u001b[39m.\u001b[39;49msolve(model)\n\u001b[1;32m      3\u001b[0m model\u001b[39m.\u001b[39mdisplay()\n\u001b[1;32m      4\u001b[0m \u001b[39m#Extract the results\u001b[39;00m\n",
      "File \u001b[0;32m/Library/Frameworks/Python.framework/Versions/3.13/lib/python3.13/site-packages/pyomo/contrib/appsi/base.py:1552\u001b[0m, in \u001b[0;36mLegacySolverInterface.solve\u001b[0;34m(self, model, tee, load_solutions, logfile, solnfile, timelimit, report_timing, solver_io, suffixes, options, keepfiles, symbolic_solver_labels)\u001b[0m\n\u001b[1;32m   1549\u001b[0m \u001b[39mif\u001b[39;00m options \u001b[39mis\u001b[39;00m \u001b[39mnot\u001b[39;00m \u001b[39mNone\u001b[39;00m:\n\u001b[1;32m   1550\u001b[0m     \u001b[39mself\u001b[39m\u001b[39m.\u001b[39moptions \u001b[39m=\u001b[39m options\n\u001b[0;32m-> 1552\u001b[0m results: Results \u001b[39m=\u001b[39m \u001b[39msuper\u001b[39;49m(LegacySolverInterface, \u001b[39mself\u001b[39;49m)\u001b[39m.\u001b[39;49msolve(model)\n\u001b[1;32m   1554\u001b[0m legacy_results \u001b[39m=\u001b[39m LegacySolverResults()\n\u001b[1;32m   1555\u001b[0m legacy_soln \u001b[39m=\u001b[39m LegacySolution()\n",
      "File \u001b[0;32m/Library/Frameworks/Python.framework/Versions/3.13/lib/python3.13/site-packages/pyomo/contrib/appsi/solvers/highs.py:270\u001b[0m, in \u001b[0;36mHighs.solve\u001b[0;34m(self, model, timer)\u001b[0m\n\u001b[1;32m    268\u001b[0m     \u001b[39mself\u001b[39m\u001b[39m.\u001b[39mupdate(timer\u001b[39m=\u001b[39mtimer)\n\u001b[1;32m    269\u001b[0m     timer\u001b[39m.\u001b[39mstop(\u001b[39m'\u001b[39m\u001b[39mupdate\u001b[39m\u001b[39m'\u001b[39m)\n\u001b[0;32m--> 270\u001b[0m res \u001b[39m=\u001b[39m \u001b[39mself\u001b[39;49m\u001b[39m.\u001b[39;49m_solve(timer)\n\u001b[1;32m    271\u001b[0m \u001b[39mself\u001b[39m\u001b[39m.\u001b[39m_last_results_object \u001b[39m=\u001b[39m res\n\u001b[1;32m    272\u001b[0m \u001b[39mif\u001b[39;00m \u001b[39mself\u001b[39m\u001b[39m.\u001b[39mconfig\u001b[39m.\u001b[39mreport_timing:\n",
      "File \u001b[0;32m/Library/Frameworks/Python.framework/Versions/3.13/lib/python3.13/site-packages/pyomo/contrib/appsi/solvers/highs.py:254\u001b[0m, in \u001b[0;36mHighs._solve\u001b[0;34m(self, timer)\u001b[0m\n\u001b[1;32m    251\u001b[0m     \u001b[39mself\u001b[39m\u001b[39m.\u001b[39m_solver_model\u001b[39m.\u001b[39mrun()\n\u001b[1;32m    252\u001b[0m     timer\u001b[39m.\u001b[39mstop(\u001b[39m'\u001b[39m\u001b[39moptimize\u001b[39m\u001b[39m'\u001b[39m)\n\u001b[0;32m--> 254\u001b[0m \u001b[39mreturn\u001b[39;00m \u001b[39mself\u001b[39;49m\u001b[39m.\u001b[39;49m_postsolve(timer)\n",
      "File \u001b[0;32m/Library/Frameworks/Python.framework/Versions/3.13/lib/python3.13/site-packages/pyomo/contrib/appsi/solvers/highs.py:688\u001b[0m, in \u001b[0;36mHighs._postsolve\u001b[0;34m(self, timer)\u001b[0m\n\u001b[1;32m    681\u001b[0m     \u001b[39mif\u001b[39;00m results\u001b[39m.\u001b[39mtermination_condition \u001b[39m!=\u001b[39m TerminationCondition\u001b[39m.\u001b[39moptimal:\n\u001b[1;32m    682\u001b[0m         logger\u001b[39m.\u001b[39mwarning(\n\u001b[1;32m    683\u001b[0m             \u001b[39m'\u001b[39m\u001b[39mLoading a feasible but suboptimal solution. \u001b[39m\u001b[39m'\u001b[39m\n\u001b[1;32m    684\u001b[0m             \u001b[39m'\u001b[39m\u001b[39mPlease set load_solution=False and check \u001b[39m\u001b[39m'\u001b[39m\n\u001b[1;32m    685\u001b[0m             \u001b[39m'\u001b[39m\u001b[39mresults.termination_condition and \u001b[39m\u001b[39m'\u001b[39m\n\u001b[1;32m    686\u001b[0m             \u001b[39m'\u001b[39m\u001b[39mresults.found_feasible_solution() before loading a solution.\u001b[39m\u001b[39m'\u001b[39m\n\u001b[1;32m    687\u001b[0m         )\n\u001b[0;32m--> 688\u001b[0m     \u001b[39mself\u001b[39;49m\u001b[39m.\u001b[39;49mload_vars()\n\u001b[1;32m    689\u001b[0m \u001b[39melse\u001b[39;00m:\n\u001b[1;32m    690\u001b[0m     \u001b[39mraise\u001b[39;00m \u001b[39mRuntimeError\u001b[39;00m(\n\u001b[1;32m    691\u001b[0m         \u001b[39m'\u001b[39m\u001b[39mA feasible solution was not found, so no solution can be loaded. \u001b[39m\u001b[39m'\u001b[39m\n\u001b[1;32m    692\u001b[0m         \u001b[39m'\u001b[39m\u001b[39mIf using the appsi.solvers.Highs interface, you can \u001b[39m\u001b[39m'\u001b[39m\n\u001b[0;32m   (...)\u001b[0m\n\u001b[1;32m    696\u001b[0m         \u001b[39m'\u001b[39m\u001b[39mresults.best_feasible_objective before loading a solution.\u001b[39m\u001b[39m'\u001b[39m\n\u001b[1;32m    697\u001b[0m     )\n",
      "File \u001b[0;32m/Library/Frameworks/Python.framework/Versions/3.13/lib/python3.13/site-packages/pyomo/contrib/appsi/solvers/highs.py:717\u001b[0m, in \u001b[0;36mHighs.load_vars\u001b[0;34m(self, vars_to_load)\u001b[0m\n\u001b[1;32m    716\u001b[0m \u001b[39mdef\u001b[39;00m\u001b[39m \u001b[39m\u001b[39mload_vars\u001b[39m(\u001b[39mself\u001b[39m, vars_to_load\u001b[39m=\u001b[39m\u001b[39mNone\u001b[39;00m):\n\u001b[0;32m--> 717\u001b[0m     \u001b[39mfor\u001b[39;00m v, val \u001b[39min\u001b[39;00m \u001b[39mself\u001b[39;49m\u001b[39m.\u001b[39;49mget_primals(vars_to_load\u001b[39m=\u001b[39;49mvars_to_load)\u001b[39m.\u001b[39mitems():\n\u001b[1;32m    718\u001b[0m         v\u001b[39m.\u001b[39mset_value(val, skip_validation\u001b[39m=\u001b[39m\u001b[39mTrue\u001b[39;00m)\n\u001b[1;32m    719\u001b[0m     StaleFlagManager\u001b[39m.\u001b[39mmark_all_as_stale(delayed\u001b[39m=\u001b[39m\u001b[39mTrue\u001b[39;00m)\n",
      "File \u001b[0;32m/Library/Frameworks/Python.framework/Versions/3.13/lib/python3.13/site-packages/pyomo/contrib/appsi/solvers/highs.py:723\u001b[0m, in \u001b[0;36mHighs.get_primals\u001b[0;34m(self, vars_to_load, solution_number)\u001b[0m\n\u001b[1;32m    721\u001b[0m \u001b[39mdef\u001b[39;00m\u001b[39m \u001b[39m\u001b[39mget_primals\u001b[39m(\u001b[39mself\u001b[39m, vars_to_load\u001b[39m=\u001b[39m\u001b[39mNone\u001b[39;00m, solution_number\u001b[39m=\u001b[39m\u001b[39m0\u001b[39m):\n\u001b[1;32m    722\u001b[0m     \u001b[39mif\u001b[39;00m \u001b[39mself\u001b[39m\u001b[39m.\u001b[39m_sol \u001b[39mis\u001b[39;00m \u001b[39mNone\u001b[39;00m \u001b[39mor\u001b[39;00m \u001b[39mnot\u001b[39;00m \u001b[39mself\u001b[39m\u001b[39m.\u001b[39m_sol\u001b[39m.\u001b[39mvalue_valid:\n\u001b[0;32m--> 723\u001b[0m         \u001b[39mraise\u001b[39;00m \u001b[39mRuntimeError\u001b[39;00m(\n\u001b[1;32m    724\u001b[0m             \u001b[39m'\u001b[39m\u001b[39mSolver does not currently have a valid solution. Please \u001b[39m\u001b[39m'\u001b[39m\n\u001b[1;32m    725\u001b[0m             \u001b[39m'\u001b[39m\u001b[39mcheck the termination condition.\u001b[39m\u001b[39m'\u001b[39m\n\u001b[1;32m    726\u001b[0m         )\n\u001b[1;32m    728\u001b[0m     res \u001b[39m=\u001b[39m ComponentMap()\n\u001b[1;32m    729\u001b[0m     \u001b[39mif\u001b[39;00m vars_to_load \u001b[39mis\u001b[39;00m \u001b[39mNone\u001b[39;00m:\n",
      "\u001b[0;31mRuntimeError\u001b[0m: Solver does not currently have a valid solution. Please check the termination condition."
     ]
    }
   ],
   "source": [
    "#Solve the model\n",
    "SOLVER.solve(model)\n",
    "model.display()\n",
    "#Extract the results\n",
    "selected_activities = []\n",
    "for i in model.I:\n",
    "    for k in model.K:\n",
    "        if pyo.value(model.x[i, k]) > 0:\n",
    "            selected_activities.append(i)\n",
    "\n",
    "#Print which activity is happening on which day \n",
    "fun_p = 0\n",
    "for k in model.K:\n",
    "    print(f\"Day {k}:\")\n",
    "    for i in model.I:\n",
    "        if pyo.value(model.x[i, k]) > 0:\n",
    "            print(f\"  - {activity_table.at[i, 'Name']} (Duration: {activity_table.at[i, 'Duration']} hours)\")\n",
    "            fun_p += activity_table.at[i, 'Fun Points']\n",
    "\n",
    "    print()\n",
    "\n",
    "print(f\"Total Fun Points: {fun_p}\")\n"
   ]
  },
  {
   "cell_type": "code",
   "execution_count": null,
   "metadata": {},
   "outputs": [],
   "source": []
  }
 ],
 "metadata": {
  "kernelspec": {
   "display_name": "Python 3",
   "language": "python",
   "name": "python3"
  },
  "language_info": {
   "codemirror_mode": {
    "name": "ipython",
    "version": 3
   },
   "file_extension": ".py",
   "mimetype": "text/x-python",
   "name": "python",
   "nbconvert_exporter": "python",
   "pygments_lexer": "ipython3",
   "version": "3.13.2"
  },
  "orig_nbformat": 4
 },
 "nbformat": 4,
 "nbformat_minor": 2
}
