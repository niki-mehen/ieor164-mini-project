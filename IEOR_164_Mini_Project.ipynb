{
 "cells": [
  {
   "cell_type": "code",
   "execution_count": null,
   "metadata": {},
   "outputs": [],
   "source": [
    "%%capture\n",
    "import sys\n",
    "import numpy as np\n",
    "\n",
    "%pip install pyomo >/dev/null 2>/dev/null\n",
    "%pip install highspy >/dev/null 2>/dev/null\n",
    "\n",
    "solver = 'appsi_highs'\n",
    "\n",
    "import pyomo.environ as pyo\n",
    "SOLVER = pyo.SolverFactory(solver)\n",
    "\n",
    "assert SOLVER.available(), f\"Solver {solver} is not available.\""
   ]
  }
 ],
 "metadata": {
  "language_info": {
   "name": "python"
  },
  "orig_nbformat": 4
 },
 "nbformat": 4,
 "nbformat_minor": 2
}
