{
 "cells": [
  {
   "cell_type": "code",
   "execution_count": 1,
   "metadata": {},
   "outputs": [],
   "source": [
    "%%capture\n",
    "import sys\n",
    "import numpy as np\n",
    "\n",
    "%pip install pyomo >/dev/null 2>/dev/null\n",
    "%pip install highspy >/dev/null 2>/dev/null\n",
    "\n",
    "solver = 'appsi_highs'\n",
    "\n",
    "import pyomo.environ as pyo\n",
    "SOLVER = pyo.SolverFactory(solver)\n",
    "\n",
    "assert SOLVER.available(), f\"Solver {solver} is not available.\"\n",
    "\n",
    "import pandas as pd"
   ]
  },
  {
   "cell_type": "code",
   "execution_count": null,
   "metadata": {},
   "outputs": [],
   "source": [
    "m = pyo.ConcreteModel(\"National Park Trip\")\n",
    "\n",
    "# Sets\n",
    "activity_table = pd.read_excel(\"data/activities.xlsx\", sheet_name=\"Activities\") # use correct path\n",
    "activity_table = activity_table.set_index(\"Activity\")\n",
    "\n"
   ]
  },
  {
   "cell_type": "code",
   "execution_count": 2,
   "metadata": {},
   "outputs": [
    {
     "name": "stdout",
     "output_type": "stream",
     "text": [
      "Pyomo and Highs installed successfully.\n"
     ]
    }
   ],
   "source": [
    "print('Pyomo and Highs installed successfully.')"
   ]
  },
  {
   "cell_type": "code",
   "execution_count": null,
   "metadata": {},
   "outputs": [],
   "source": []
  }
 ],
 "metadata": {
  "kernelspec": {
<<<<<<< HEAD
   "display_name": "Python 3",
=======
   "display_name": "base",
>>>>>>> 4f4c2ace4ca102671a853d0fcb990c2d8ce0cd68
   "language": "python",
   "name": "python3"
  },
  "language_info": {
   "codemirror_mode": {
    "name": "ipython",
    "version": 3
   },
   "file_extension": ".py",
   "mimetype": "text/x-python",
   "name": "python",
   "nbconvert_exporter": "python",
   "pygments_lexer": "ipython3",
<<<<<<< HEAD
   "version": "3.13.2"
=======
   "version": "3.8.5"
>>>>>>> 4f4c2ace4ca102671a853d0fcb990c2d8ce0cd68
  },
  "orig_nbformat": 4
 },
 "nbformat": 4,
 "nbformat_minor": 2
}
